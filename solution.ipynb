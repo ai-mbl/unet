{
 "cells": [
  {
   "cell_type": "markdown",
   "id": "1f7d6e09",
   "metadata": {
    "tags": []
   },
   "source": [
    "# Build Your Own U-Net\n",
    "\n",
    "<hr style=\"height:2px;\">\n",
    "\n",
    "In this notebook, we will implement a U-Net architecture. Through this exercise you should gain an understanding of the U-Net architecture in particular as well as learn how to approach the implementation of an architecture in general and familiarize yourself a bit more with the inner workings of pytorch.\n",
    "\n",
    "The exercise is split into three parts:\n",
    "\n",
    "In part 1 you will implement the building blocks of the U-Net. That includes the convolutions, downsampling, upsampling and skip connections. We will go in the order of how difficult they are to implement.\n",
    "\n",
    "In part 2 you will combine the modules you've built in part 1 to implement the U-Net module and then see how hyperparameters influence its receptive field size.\n",
    "\n",
    "Finally, in part 3 you will train your first U-Net of the course! This will just be a first flavor though since you will learn much more about that in the next exercise.\n",
    "\n",
    "\n",
    "Written by Larissa Heinrich, Caroline Malin-Mayor, and Morgan Schwartz, with inspiration from William Patton."
   ]
  },
  {
   "cell_type": "markdown",
   "id": "eaf266b6",
   "metadata": {},
   "source": [
    "<hr style=\"height:2px;\">\n",
    "\n",
    "## The libraries"
   ]
  },
  {
   "cell_type": "code",
   "execution_count": null,
   "id": "095c3471",
   "metadata": {},
   "outputs": [],
   "source": [
    "%matplotlib inline\n",
    "%load_ext tensorboard\n",
    "import torch\n",
    "from torch.utils.data import DataLoader\n",
    "from torch.utils.tensorboard import SummaryWriter\n",
    "from torchvision import transforms\n",
    "\n",
    "from local import (\n",
    "    NucleiDataset,\n",
    "    show_random_dataset_image,\n",
    "    apply_and_show_random_image,\n",
    "    plot_receptive_field,\n",
    ")\n",
    "import unet_tests"
   ]
  },
  {
   "cell_type": "code",
   "execution_count": null,
   "id": "f197eea4",
   "metadata": {
    "lines_to_next_cell": 2
   },
   "outputs": [],
   "source": [
    "# make sure gpu is available. Please call a TA if this cell fails\n",
    "assert torch.cuda.is_available()"
   ]
  },
  {
   "cell_type": "markdown",
   "id": "b57555ba",
   "metadata": {},
   "source": [
    "## The Dataset\n",
    "For our segmentation exercises, we will be using a nucleus segmentation dataset from [Kaggle 2018 Data Science Bowl](https://www.kaggle.com/c/data-science-bowl-2018/data). We have downloaded the dataset during setup and we provided a pytorch Dataset called `NucleiDataset` which we will use for training later. In addition to training, we will use these images to visualize the output of the individual building blocks of the U-Net we will be implementing.\n",
    "Below, we create a dataset and then visualize a random image."
   ]
  },
  {
   "cell_type": "code",
   "execution_count": null,
   "id": "18e7e9a5",
   "metadata": {},
   "outputs": [],
   "source": [
    "dataset = NucleiDataset(\"nuclei_train_data\")"
   ]
  },
  {
   "cell_type": "code",
   "execution_count": null,
   "id": "aaf5c41e",
   "metadata": {},
   "outputs": [],
   "source": [
    "show_random_dataset_image(dataset)"
   ]
  },
  {
   "cell_type": "markdown",
   "id": "a8ab28dd",
   "metadata": {},
   "source": [
    "Rerun the cell above a few times to see different images."
   ]
  },
  {
   "cell_type": "markdown",
   "id": "a008cdb8",
   "metadata": {
    "tags": []
   },
   "source": [
    "<hr style=\"height:2px;\">\n",
    "\n",
    "## The Components of a U-Net"
   ]
  },
  {
   "cell_type": "markdown",
   "id": "38059be1",
   "metadata": {
    "tags": []
   },
   "source": [
    "The [U-Net](https://lmb.informatik.uni-freiburg.de/people/ronneber/u-net/) architecture has proven to outperform the other architectures in segmenting biological and medical images. It is also commonly used for other tasks that require the output to be the same resolution as the input, such as style transfer and denoising. Below is an overview figure of the U-Net architecture from the original [paper](https://arxiv.org/pdf/1505.04597.pdf). We will go through each of the components first (hint: all of them can be found in the list of PyTorch modules [here](https://pytorch.org/docs/stable/nn.html#convolution-layers)), and then fit them all together to make our very own U-Net.\n",
    "![image](static/UNet_figure.png)"
   ]
  },
  {
   "cell_type": "markdown",
   "id": "eff2426c",
   "metadata": {
    "tags": []
   },
   "source": [
    "### Component 1: Upsampling"
   ]
  },
  {
   "cell_type": "markdown",
   "id": "0ea06189",
   "metadata": {
    "lines_to_next_cell": 2,
    "tags": []
   },
   "source": [
    "We will start with the Upsample module that we will use in our U-Net. The right side of the U-Net contains upsampling between the levels. There are many ways to upsample: in the original U-Net, they use a transposed convolution, but this has since fallen a bit out of fashion so we will use the PyTorch Upsample Module [torch.nn.Upsample](https://pytorch.org/docs/stable/generated/torch.nn.Upsample.html#torch.nn.Upsample) instead."
   ]
  },
  {
   "cell_type": "markdown",
   "id": "f290668d",
   "metadata": {
    "tags": []
   },
   "source": [
    "#### Pytorch Modules\n",
    "Modules are the building blocks of PyTorch models, and contain lots of magic that makes training models easy. If you aren't familiar with PyTorch modules, take a look at the official documentation [here](https://pytorch.org/docs/stable/notes/modules.html). For our purposes, it is crucial to note how Modules can have submodules defined in the `__init__` function, and how the `forward` function is defined and called."
   ]
  },
  {
   "cell_type": "code",
   "execution_count": null,
   "id": "76144942",
   "metadata": {
    "tags": []
   },
   "outputs": [],
   "source": [
    "# Here we make fake input to illustrate the upsampling techniques\n",
    "# Pytorch expects a batch and channel dimension before the actual data,\n",
    "# So this simulates a 1D input\n",
    "sample_1d_input = torch.tensor([[[1, 2, 3, 4]]], dtype=torch.float64)\n",
    "# And this simulates a 2D input\n",
    "sample_2d_input = torch.tensor(\n",
    "    [[[[1, 2], [3, 4]]]],\n",
    "    dtype=torch.float64,\n",
    ")\n",
    "sample_2d_input.shape, sample_2d_input"
   ]
  },
  {
   "cell_type": "markdown",
   "id": "6e47af28",
   "metadata": {
    "tags": []
   },
   "source": [
    "<div class=\"alert alert-block alert-info\">\n",
    "    <h4>Task 1: Try out different upsampling techniques</h4>\n",
    "    <p>For our U-net, we will use the built-in PyTorch Upsample Module. Here we will practice declaring and calling an Upsample module with different parameters.</p>\n",
    "    <ol>\n",
    "        <li>Declare an instance of the pytorch Upsample module with <code>scale_factor</code> 2 and mode <code>\"nearest\"</code>.</li>\n",
    "        <li>Call the instance of Upsample on the <code>sample_2d_input</code> to see what the nearest mode does.</li>\n",
    "        <li>Vary the scale factor and mode to see what changes. Check the documentation for possible modes and required input dimensions.</li>\n",
    "    </ol>\n",
    "</div>"
   ]
  },
  {
   "cell_type": "code",
   "execution_count": null,
   "id": "e711f3fc",
   "metadata": {
    "tags": [
     "solution"
    ]
   },
   "outputs": [],
   "source": [
    "# SOLUTION 1.1: initialize  an upsample module\n",
    "up = torch.nn.Upsample(scale_factor=2, mode=\"nearest\")\n",
    "\n",
    "# SOLUTION 1.2: apply your upsample module to `sample_2d_input`\n",
    "up(sample_2d_input)"
   ]
  },
  {
   "cell_type": "code",
   "execution_count": null,
   "id": "2f2c5c2e",
   "metadata": {
    "tags": [
     "solution"
    ]
   },
   "outputs": [],
   "source": [
    "# TASK 1.3: vary scale factor and mode\n",
    "up3 = torch.nn.Upsample(scale_factor=3, mode=\"bilinear\")\n",
    "up3(sample_2d_input)"
   ]
  },
  {
   "cell_type": "markdown",
   "id": "57916d7d",
   "metadata": {
    "tags": []
   },
   "source": [
    "Here is an additional example on image data."
   ]
  },
  {
   "cell_type": "code",
   "execution_count": null,
   "id": "c4303c0e",
   "metadata": {
    "tags": []
   },
   "outputs": [],
   "source": [
    "apply_and_show_random_image(up, dataset)"
   ]
  },
  {
   "cell_type": "markdown",
   "id": "d0fe6267",
   "metadata": {
    "tags": []
   },
   "source": [
    "### Component 2: Downsampling"
   ]
  },
  {
   "cell_type": "markdown",
   "id": "2b53fa71",
   "metadata": {
    "lines_to_next_cell": 2,
    "tags": []
   },
   "source": [
    "Between levels of the U-Net on the left side, there is a downsample step. Traditionally, this is done with a 2x2 max pooling operation. There are other ways to downsample, for example with average pooling, but we will stick with max pooling for this exercise."
   ]
  },
  {
   "cell_type": "code",
   "execution_count": null,
   "id": "2df068e2",
   "metadata": {
    "tags": []
   },
   "outputs": [],
   "source": [
    "sample_2d_input = torch.randint(0, 10, (1, 1, 6, 6))\n",
    "sample_2d_input"
   ]
  },
  {
   "cell_type": "markdown",
   "id": "8d864f6c",
   "metadata": {
    "tags": []
   },
   "source": [
    "<div class=\"alert alert-block alert-info\">\n",
    "    <h4>Task 2A: Try out max pooling</h4>\n",
    "        <p>Using the docs for <a href=https://pytorch.org/docs/stable/generated/torch.nn.MaxPool2d.html>torch.nn.MaxPool2d</a>,\n",
    "        try initializing the module and applying it to the sample input. Try varying the parameters to understand the effect of <code>kernel_size</code> and <code>stride</code>.\n",
    "        </p>"
   ]
  },
  {
   "cell_type": "code",
   "execution_count": null,
   "id": "1e9dc9d2",
   "metadata": {
    "lines_to_next_cell": 2,
    "tags": [
     "solution"
    ]
   },
   "outputs": [],
   "source": [
    "# SOLUTION 2A: Initialize max pooling and apply to sample input\n",
    "max_pool = torch.nn.MaxPool2d(kernel_size=2, stride=2, padding=0)\n",
    "max_pool(sample_2d_input)"
   ]
  },
  {
   "cell_type": "markdown",
   "id": "c462f95e",
   "metadata": {
    "lines_to_next_cell": 2,
    "tags": []
   },
   "source": [
    "<div class=\"alert alert-block alert-info\">\n",
    "    <h4>Task 2B: Implement a Downsample Module</h4>\n",
    "    <p>This is very similar to the built in MaxPool2d, but additionally has to check if the downsample factor matches in the input size. Note that we provide the forward function for you - in future Modules, you will implement the forward yourself.</p>\n",
    "    <ol>\n",
    "        <li>Declare the submodules you want to use (in this case, <code>torch.nn.MaxPool2d</code> with the correct arguments) in the <code>__init__</code> function. In our Downsample Module, we do not want to use padding and the stride should match the input kernel size.</li>\n",
    "        <li>Write a function to check if the downsample factor is valid. If the downsample factor does not evenly divide the dimensions of the input to the layer, this function should return False.</li>\n",
    "    </ol>\n",
    "</div>"
   ]
  },
  {
   "cell_type": "code",
   "execution_count": null,
   "id": "54f1b1e9",
   "metadata": {
    "tags": [
     "solution"
    ]
   },
   "outputs": [],
   "source": [
    "class Downsample(torch.nn.Module):\n",
    "    def __init__(self, downsample_factor: int):\n",
    "        \"\"\"Initialize a MaxPool2d module with the input downsample fator\"\"\"\n",
    "\n",
    "        super().__init__()\n",
    "\n",
    "        self.downsample_factor = downsample_factor\n",
    "        # SOLUTION 2B1: Initialize the maxpool module\n",
    "        self.down = torch.nn.MaxPool2d(downsample_factor)\n",
    "\n",
    "    def check_valid(self, image_size: tuple[int, int]) -> bool:\n",
    "        \"\"\"Check if the downsample factor evenly divides each image dimension.\n",
    "        Returns `True` for valid image sizes and `False` for invalid image sizes.\n",
    "        \"\"\"\n",
    "        # SOLUTION 2B2: Check that the image_size is valid to use with the downsample factor\n",
    "        for dim in image_size:\n",
    "            if dim % self.downsample_factor != 0:\n",
    "                return False\n",
    "        return True\n",
    "\n",
    "    def forward(self, x):\n",
    "        if not self.check_valid(tuple(x.size()[-2:])):\n",
    "            raise RuntimeError(\n",
    "                \"Can not downsample shape %s with factor %s\"\n",
    "                % (x.size(), self.downsample_factor)\n",
    "            )\n",
    "\n",
    "        return self.down(x)"
   ]
  },
  {
   "cell_type": "code",
   "execution_count": null,
   "id": "7cf1079c",
   "metadata": {
    "tags": []
   },
   "outputs": [],
   "source": [
    "down = Downsample(4)\n",
    "apply_and_show_random_image(down, dataset)"
   ]
  },
  {
   "cell_type": "markdown",
   "id": "0f947a09",
   "metadata": {
    "tags": []
   },
   "source": [
    "We wrote some rudimentary tests for each of the torch modules you are writing. If you get an error from your code or an AssertionError from the test, you should probably have another look ath your implementation."
   ]
  },
  {
   "cell_type": "code",
   "execution_count": null,
   "id": "bf573754",
   "metadata": {
    "tags": []
   },
   "outputs": [],
   "source": [
    "unet_tests.TestDown(Downsample).run()"
   ]
  },
  {
   "cell_type": "markdown",
   "id": "d0b79626",
   "metadata": {
    "tags": []
   },
   "source": [
    "### Component 3: Convolution Block"
   ]
  },
  {
   "cell_type": "markdown",
   "id": "b40ff495",
   "metadata": {
    "lines_to_next_cell": 2
   },
   "source": [
    "#### Convolution\n",
    "A U-Net is a convolutional neural network, which means that the main type of operation is a convolution. Convolutions with defined kernels were covered briefly in the pre-course materials.\n",
    "\n",
    "<img src=\"./static/2D_Convolution_Animation.gif\" width=\"400\" height=\"300\">"
   ]
  },
  {
   "cell_type": "markdown",
   "id": "b7b63ea4",
   "metadata": {
    "lines_to_next_cell": 2,
    "tags": []
   },
   "source": [
    "Shown here is a 3x3 kernel being convolved with an input array to get an output array of the same size. For each pixel of the input, the value at that same pixel of the output is computed by multiplying the kernel element-wise with the surrounding 3x3 neighborhood around the input pixel, and then summing the result."
   ]
  },
  {
   "cell_type": "markdown",
   "id": "56656555",
   "metadata": {
    "lines_to_next_cell": 2,
    "tags": []
   },
   "source": [
    "#### Padding\n",
    "\n",
    "You will notice that at the edges of the input, this animation shows greyed out values that extend past the input. This is known as padding the input. This example uses \"same\" padding, which means the values at the edges are repeated. The other option we will use in this exercise is \"valid\" padding, which essentially means no padding. In the case of valid padding, the output will be smaller than the input, as values at the edges of the output will not be computed. \"Same\" padding can introduce edge artifacts, but \"valid\" padding reduces the output size at every convolution. Note that the amount of padding (for same) and the amount of size lost (for valid) depends on the size of the kernel - a 3x3 convolution would require padding of 1, a 5x5 convolution would require a padding of 2, and so on.\n",
    "\n",
    "Additionally, there are different modes of padding that determine what strategy is used to make up the values for padding. In the animation above the mode is re-using values from the border. Even more commonly, the image is simply padded with zeros."
   ]
  },
  {
   "cell_type": "markdown",
   "id": "b91d550c",
   "metadata": {
    "tags": []
   },
   "source": [
    "#### ReLU Activation\n",
    "The Rectified Linear Unit (ReLU) is a common activation function, which takes the max of a value and 0, shown below. It introduces a non-linearity into the neural network - without a non-linear activation function, a neural network could not learn non-linear functions.\n",
    "\n",
    "<img src=\"./static/ReLU.png\" width=\"400\" height=\"300\">"
   ]
  },
  {
   "cell_type": "markdown",
   "id": "679c96d9",
   "metadata": {
    "lines_to_next_cell": 2,
    "tags": []
   },
   "source": [
    "<div class=\"alert alert-block alert-info\">\n",
    "    <h4>Task 3: Implement a ConvBlock module</h4>\n",
    "    <p>The convolution block (ConvBlock) of a standard U-Net has two 3x3 convolutions, each of which is followed by a ReLU activation. Our implementation will handle other sizes of convolutions as well. The first convolution in the block will handle changing the input number of feature maps/channels into the output, and the second convolution will have the same number of feature maps in and out.</p>\n",
    "    <ol>\n",
    "        <li>Declare the submodules you want to use in the <code>__init__</code> function. Because you will always be calling four submodules in sequence (<a href=https://pytorch.org/docs/stable/generated/torch.nn.Conv2d.html#torch.nn.Conv2d>torch.nn.Conv2d</a>, <a href=https://pytorch.org/docs/stable/generated/torch.nn.ReLU.html#torch.nn.ReLU>torch.nn.ReLU</a>, Conv2d, ReLU), you can use <a href=https://pytorch.org/docs/stable/generated/torch.nn.Sequential.html>torch.nn.Sequential</a> to hold the convolutions and ReLUs.</li>\n",
    "        <li>Call the modules in the forward function. If you used <code>torch.nn.Sequential</code> in step 1, you only need to call the Sequential module, but if not, you can call the Conv2d and ReLU Modules explicitly.</li>\n",
    "    </ol>\n",
    "</div>\n",
    "\n",
    "If you get stuck, refer back to the <a href=https://pytorch.org/docs/stable/notes/modules.html>Module</a> documentation for hints and examples of how to define a PyTorch Module."
   ]
  },
  {
   "cell_type": "code",
   "execution_count": null,
   "id": "da6310df",
   "metadata": {
    "lines_to_next_cell": 2,
    "tags": [
     "solution"
    ]
   },
   "outputs": [],
   "source": [
    "class ConvBlock(torch.nn.Module):\n",
    "    def __init__(\n",
    "        self,\n",
    "        in_channels: int,\n",
    "        out_channels: int,\n",
    "        kernel_size: int,\n",
    "        padding: str = \"same\",\n",
    "    ):\n",
    "        \"\"\"A convolution block for a U-Net. Contains two convolutions, each followed by a ReLU.\n",
    "\n",
    "        Args:\n",
    "            in_channels (int): The number of input channels for this conv block. Depends on\n",
    "                the layer and side of the U-Net and the hyperparameters.\n",
    "            out_channels (int): The number of output channels for this conv block. Depends on\n",
    "                the layer and side of the U-Net and the hyperparameters.\n",
    "            kernel_size (int): The size of the kernel. A kernel size of N signifies an\n",
    "                NxN square kernel.\n",
    "            padding (str): The type of convolution padding to use. Either \"same\" or \"valid\"\n",
    "        \"\"\"\n",
    "        super().__init__()\n",
    "\n",
    "        if kernel_size % 2 == 0:\n",
    "            msg = \"Only allowing odd kernel sizes.\"\n",
    "            raise ValueError(msg)\n",
    "\n",
    "        # SOLUTION 3.1: Initialize your modules and define layers in conv pass\n",
    "        self.conv_pass = torch.nn.Sequential(\n",
    "            torch.nn.Conv2d(\n",
    "                in_channels, out_channels, kernel_size=kernel_size, padding=padding\n",
    "            ),\n",
    "            torch.nn.ReLU(),\n",
    "            torch.nn.Conv2d(\n",
    "                out_channels, out_channels, kernel_size=kernel_size, padding=padding\n",
    "            ),\n",
    "            torch.nn.ReLU(),\n",
    "        )\n",
    "\n",
    "        for _name, layer in self.named_modules():\n",
    "            if isinstance(layer, torch.nn.Conv2d):\n",
    "                torch.nn.init.kaiming_normal_(layer.weight, nonlinearity=\"relu\")\n",
    "\n",
    "    def forward(self, x):\n",
    "        # SOLUTION 3.2: Apply the modules you defined to the input x\n",
    "        return self.conv_pass(x)"
   ]
  },
  {
   "cell_type": "markdown",
   "id": "f70f7206",
   "metadata": {
    "lines_to_next_cell": 2,
    "tags": []
   },
   "source": [
    "#### Test and Visualize Output of ConvBlock"
   ]
  },
  {
   "cell_type": "code",
   "execution_count": null,
   "id": "98d6e7a4",
   "metadata": {
    "tags": []
   },
   "outputs": [],
   "source": [
    "unet_tests.TestConvBlock(ConvBlock).run()"
   ]
  },
  {
   "cell_type": "code",
   "execution_count": null,
   "id": "7caf056b",
   "metadata": {
    "lines_to_next_cell": 2,
    "tags": []
   },
   "outputs": [],
   "source": [
    "torch.manual_seed(26)\n",
    "conv = ConvBlock(1, 2, 5, \"same\")\n",
    "apply_and_show_random_image(conv, dataset)"
   ]
  },
  {
   "cell_type": "markdown",
   "id": "cef18496",
   "metadata": {
    "tags": []
   },
   "source": [
    "### Component 4: Skip Connections and Concatenation"
   ]
  },
  {
   "cell_type": "markdown",
   "id": "f284c4b2",
   "metadata": {
    "lines_to_next_cell": 2,
    "tags": []
   },
   "source": [
    "The skip connections between the left and right side of the U-Net are central to successfully obtaining high-resolution output. At each layer, the output of the left conv block is concatenated to the output of the upsample block on the right side from the last layer below. Since upsampling, especially with the \"nearest\" algorithm, does not actually add high resolution information, the concatenation of the right side conv block output is crucial to generate high resolution segmentations.\n",
    "\n",
    "If the convolutions in the U-Net are valid, the right side will be smaller than the left side, so the right side output must be cropped before concatenation. We provide a helper function to do this cropping."
   ]
  },
  {
   "cell_type": "markdown",
   "id": "cb87c731",
   "metadata": {
    "lines_to_next_cell": 2,
    "tags": []
   },
   "source": [
    "<div class=\"alert alert-block alert-info\">\n",
    "    <h4>Task 4: Implement a CropAndConcat module</h4>\n",
    "    <p>Below, you must implement the <code>forward</code> method, including the cropping (using the provided helper function <code>self.crop</code>) and the concatenation (using <a href=https://pytorch.org/docs/stable/generated/torch.cat.html#torch.cat>torch.cat</a>).\n",
    "</p>\n",
    "Hint: Use the <code>dim</code> keyword argument of <a href=https://pytorch.org/docs/stable/generated/torch.cat.html#torch.cat>torch.cat</a> to choose along which axis to concatenate the tensors.\n",
    "</p>\n",
    "Hint: The tensors have the layout (batch, channel, x, y)\n",
    "</div>"
   ]
  },
  {
   "cell_type": "code",
   "execution_count": null,
   "id": "c87eb104",
   "metadata": {
    "tags": [
     "solution"
    ]
   },
   "outputs": [],
   "source": [
    "class CropAndConcat(torch.nn.Module):\n",
    "    def crop(self, x, y):\n",
    "        \"\"\"Center-crop x to match spatial dimensions given by y.\"\"\"\n",
    "\n",
    "        x_target_size = x.size()[:-2] + y.size()[-2:]\n",
    "\n",
    "        offset = tuple((a - b) // 2 for a, b in zip(x.size(), x_target_size))\n",
    "\n",
    "        slices = tuple(slice(o, o + s) for o, s in zip(offset, x_target_size))\n",
    "\n",
    "        return x[slices]\n",
    "\n",
    "    def forward(self, encoder_output, upsample_output):\n",
    "        # SOLUTION 4: Implement the forward function\n",
    "        encoder_cropped = self.crop(encoder_output, upsample_output)\n",
    "\n",
    "        return torch.cat([encoder_cropped, upsample_output], dim=1)"
   ]
  },
  {
   "cell_type": "code",
   "execution_count": null,
   "id": "9493929a",
   "metadata": {
    "tags": []
   },
   "outputs": [],
   "source": [
    "unet_tests.TestCropAndConcat(CropAndConcat).run()"
   ]
  },
  {
   "cell_type": "markdown",
   "id": "96d39019",
   "metadata": {
    "tags": []
   },
   "source": [
    "### Component 5: Output Block"
   ]
  },
  {
   "cell_type": "markdown",
   "id": "401073f3",
   "metadata": {
    "lines_to_next_cell": 2,
    "tags": []
   },
   "source": [
    "The final block we need to write for our U-Net is the output convolution block. The exact format of output you want depends on your task, so our U-Net must be flexible enough to handle different numbers of out channels and different final activation functions."
   ]
  },
  {
   "cell_type": "markdown",
   "id": "fc5da0f0",
   "metadata": {
    "lines_to_next_cell": 2,
    "tags": []
   },
   "source": [
    "<div class=\"alert alert-block alert-info\">\n",
    "    <h4>Task 5: Implement an OutputConv Module</h4>\n",
    "    <ol>\n",
    "        <li>Define the convolution module in the <code>__init__</code> function. You can use a convolution with kernel size 1 to get the appropriate number of output channels. The activation submodule is provided for you.</li>\n",
    "        <li>Call the final convolution and activation modules in the <code>forward</code> function</li>\n",
    "    </ol>\n",
    "</div>"
   ]
  },
  {
   "cell_type": "code",
   "execution_count": null,
   "id": "af262d8c",
   "metadata": {
    "tags": [
     "solution"
    ]
   },
   "outputs": [],
   "source": [
    "class OutputConv(torch.nn.Module):\n",
    "    def __init__(\n",
    "        self,\n",
    "        in_channels: int,\n",
    "        out_channels: int,\n",
    "        activation: torch.nn.Module | None = None,\n",
    "    ):\n",
    "        \"\"\"\n",
    "        A module that uses a convolution with kernel size 1 to get the appropriate\n",
    "        number of output channels, and then optionally applies a final activation.\n",
    "\n",
    "        Args:\n",
    "            in_channels (int): The number of feature maps that will be input to the\n",
    "                OutputConv block.\n",
    "            out_channels (int): The number of channels that you want in the output\n",
    "            activation (str | None, optional): Accepts the name of any torch activation\n",
    "                function  (e.g., ``ReLU`` for ``torch.nn.ReLU``) or None for no final\n",
    "                activation. Defaults to None.\n",
    "        \"\"\"\n",
    "        super().__init__()\n",
    "\n",
    "        # SOLUTION 5.1: Define the convolution submodule\n",
    "        self.final_conv = torch.nn.Conv2d(in_channels, out_channels, 1, padding=0)\n",
    "        self.activation = activation\n",
    "\n",
    "    def forward(self, x):\n",
    "        # SOLUTION 5.2: Implement the forward function\n",
    "        x = self.final_conv(x)\n",
    "        if self.activation is not None:\n",
    "            x = self.activation(x)\n",
    "        return x"
   ]
  },
  {
   "cell_type": "code",
   "execution_count": null,
   "id": "1200e315",
   "metadata": {
    "tags": []
   },
   "outputs": [],
   "source": [
    "unet_tests.TestOutputConv(OutputConv).run()"
   ]
  },
  {
   "cell_type": "code",
   "execution_count": null,
   "id": "83d55c25",
   "metadata": {
    "tags": []
   },
   "outputs": [],
   "source": [
    "out_conv = OutputConv(in_channels=1, out_channels=1, activation=torch.nn.ReLU())\n",
    "apply_and_show_random_image(out_conv, dataset)"
   ]
  },
  {
   "cell_type": "markdown",
   "id": "296ec127",
   "metadata": {
    "tags": []
   },
   "source": [
    "<div class=\"alert alert-block alert-success\">\n",
    "    <h2>Checkpoint 1</h2>\n",
    "\n",
    "Congratulations! You have implemented most of a U-Net!\n",
    "We will go over this portion together and answer any questions soon, but feel free to start on the next section where we put it all together.\n",
    "\n",
    "</div>\n",
    "\n",
    "<hr style=\"height:2px;\">"
   ]
  },
  {
   "cell_type": "markdown",
   "id": "1a3d091e",
   "metadata": {
    "lines_to_next_cell": 2,
    "tags": []
   },
   "source": [
    "## Putting the U-Net together\n",
    "\n",
    "Now we will make a U-Net class that combines all of these components as shown in the image. This image shows a U-Net of depth 5 with specific input channels, feature maps, upsampling, and final activation. Ours will be configurable with regards to depth and other features.\n",
    "![image](static/UNet_figure.png)"
   ]
  },
  {
   "cell_type": "markdown",
   "id": "28801fe3",
   "metadata": {
    "lines_to_next_cell": 2,
    "tags": []
   },
   "source": [
    "<div class=\"alert alert-block alert-info\">\n",
    "    <h4>Task 6: U-Net Implementation</h4>\n",
    "    <p>Now we will implement our U-Net! We have written some of it for you - follow the steps below to fill in the missing parts.</p>\n",
    "    <ol>\n",
    "        <li>Write the helper functions <code>compute_fmaps_encoder</code> and <code>compute_fmaps_decoder</code> that compute the number of input and output feature maps at each level of the U-Net.</li>\n",
    "        <li>Declare a list of encoder (left) and decoder (right) ConvPasses depending on your depth using the helper functions you wrote above. Consider the special case at the bottom of the U-Net carefully!</li>\n",
    "        <li>Declare an Upsample, Downsample, CropAndConcat, and OutputConv block.</li>\n",
    "        <li>Implement the <code>forward</code> function, applying the modules you declared above in the proper order.</li>\n",
    "        </ol>\n",
    "</div>"
   ]
  },
  {
   "cell_type": "code",
   "execution_count": null,
   "id": "a70beeca",
   "metadata": {
    "tags": [
     "solution"
    ]
   },
   "outputs": [],
   "source": [
    "class UNet(torch.nn.Module):\n",
    "    def __init__(\n",
    "        self,\n",
    "        depth: int,\n",
    "        in_channels: int,\n",
    "        out_channels: int = 1,\n",
    "        final_activation: torch.nn.Module | None = None,\n",
    "        num_fmaps: int = 64,\n",
    "        fmap_inc_factor: int = 2,\n",
    "        downsample_factor: int = 2,\n",
    "        kernel_size: int = 3,\n",
    "        padding: str = \"same\",\n",
    "        upsample_mode: str = \"nearest\",\n",
    "    ):\n",
    "        \"\"\"A U-Net for 2D input that expects tensors shaped like::\n",
    "            ``(batch, channels, height, width)``.\n",
    "        Args:\n",
    "            depth:\n",
    "                The number of levels in the U-Net. 2 is the smallest that really\n",
    "                makes sense for the U-Net architecture, as a one layer U-Net is\n",
    "                basically just 2 conv blocks.\n",
    "            in_channels:\n",
    "                The number of input channels in your dataset.\n",
    "            out_channels (optional):\n",
    "                How many output channels you want. Depends on your task. Defaults to 1.\n",
    "            final_activation (optional):\n",
    "                What activation to use in your final output block. Depends on your task.\n",
    "                Defaults to None.\n",
    "            num_fmaps (optional):\n",
    "                The number of feature maps in the first layer. Defaults to 64.\n",
    "            fmap_inc_factor (optional):\n",
    "                By how much to multiply the number of feature maps between\n",
    "                layers. Encoder layer ``l`` will have ``num_fmaps*fmap_inc_factor**l``\n",
    "                output feature maps. Defaults to 2.\n",
    "            downsample_factor (optional):\n",
    "                Factor to use for down- and up-sampling the feature maps between layers.\n",
    "                Defaults to 2.\n",
    "            kernel_size (optional):\n",
    "                Kernel size to use in convolutions on both sides of the UNet.\n",
    "                Defaults to 3.\n",
    "            padding (optional):\n",
    "                How to pad convolutions. Either 'same' or 'valid'. Defaults to \"same.\"\n",
    "            upsample_mode (optional):\n",
    "                The upsampling mode to pass to torch.nn.Upsample. Usually \"nearest\"\n",
    "                or \"bilinear.\" Defaults to \"nearest.\"\n",
    "        \"\"\"\n",
    "\n",
    "        super().__init__()\n",
    "\n",
    "        self.depth = depth\n",
    "        self.in_channels = in_channels\n",
    "        self.out_channels = out_channels\n",
    "        self.final_activation = final_activation\n",
    "        self.num_fmaps = num_fmaps\n",
    "        self.fmap_inc_factor = fmap_inc_factor\n",
    "        self.downsample_factor = downsample_factor\n",
    "        self.kernel_size = kernel_size\n",
    "        self.padding = padding\n",
    "        self.upsample_mode = upsample_mode\n",
    "\n",
    "        # left convolutional passes\n",
    "        self.left_convs = torch.nn.ModuleList()\n",
    "        # SOLUTION 6.2A: Initialize list here\n",
    "        for level in range(self.depth):\n",
    "            fmaps_in, fmaps_out = self.compute_fmaps_encoder(level)\n",
    "            self.left_convs.append(\n",
    "                ConvBlock(fmaps_in, fmaps_out, self.kernel_size, self.padding)\n",
    "            )\n",
    "\n",
    "        # right convolutional passes\n",
    "        self.right_convs = torch.nn.ModuleList()\n",
    "        # SOLUTION 6.2B: Initialize list here\n",
    "        for level in range(self.depth - 1):\n",
    "            fmaps_in, fmaps_out = self.compute_fmaps_decoder(level)\n",
    "            self.right_convs.append(\n",
    "                ConvBlock(\n",
    "                    fmaps_in,\n",
    "                    fmaps_out,\n",
    "                    self.kernel_size,\n",
    "                    self.padding,\n",
    "                )\n",
    "            )\n",
    "\n",
    "        # SOLUTION 6.3: Initialize other modules here\n",
    "        self.downsample = Downsample(self.downsample_factor)\n",
    "        self.upsample = torch.nn.Upsample(\n",
    "            scale_factor=self.downsample_factor,\n",
    "            mode=self.upsample_mode,\n",
    "        )\n",
    "        self.crop_and_concat = CropAndConcat()\n",
    "        self.final_conv = OutputConv(\n",
    "            self.compute_fmaps_decoder(0)[1], self.out_channels, self.final_activation\n",
    "        )\n",
    "\n",
    "    def compute_fmaps_encoder(self, level: int) -> tuple[int, int]:\n",
    "        \"\"\"Compute the number of input and output feature maps for\n",
    "        a conv block at a given level of the UNet encoder (left side).\n",
    "\n",
    "        Args:\n",
    "            level (int): The level of the U-Net which we are computing\n",
    "            the feature maps for. Level 0 is the input level, level 1 is\n",
    "            the first downsampled layer, and level=depth - 1 is the bottom layer.\n",
    "\n",
    "        Output (tuple[int, int]): The number of input and output feature maps\n",
    "            of the encoder convolutional pass in the given level.\n",
    "        \"\"\"\n",
    "        # SOLUTION 6.1A: Implement this function\n",
    "        if level == 0:\n",
    "            fmaps_in = self.in_channels\n",
    "        else:\n",
    "            fmaps_in = self.num_fmaps * self.fmap_inc_factor ** (level - 1)\n",
    "\n",
    "        fmaps_out = self.num_fmaps * self.fmap_inc_factor**level\n",
    "        return fmaps_in, fmaps_out\n",
    "\n",
    "    def compute_fmaps_decoder(self, level: int) -> tuple[int, int]:\n",
    "        \"\"\"Compute the number of input and output feature maps for a conv block\n",
    "        at a given level of the UNet decoder (right side). Note:\n",
    "        The bottom layer (depth - 1) is considered an \"encoder\" conv pass,\n",
    "        so this function is only valid up to depth - 2.\n",
    "\n",
    "        Args:\n",
    "            level (int): The level of the U-Net which we are computing\n",
    "            the feature maps for. Level 0 is the input level, level 1 is\n",
    "            the first downsampled layer, and level=depth - 1 is the bottom layer.\n",
    "\n",
    "        Output (tuple[int, int]): The number of input and output feature maps\n",
    "            of the decoder convolutional pass in the given level.\n",
    "        \"\"\"\n",
    "        # SOLUTION 6.1B: Implement this function\n",
    "        fmaps_out = self.num_fmaps * self.fmap_inc_factor ** (level)\n",
    "        concat_fmaps = self.compute_fmaps_encoder(level)[\n",
    "            1\n",
    "        ]  # The channels that come from the skip connection\n",
    "        fmaps_in = concat_fmaps + self.num_fmaps * self.fmap_inc_factor ** (level + 1)\n",
    "\n",
    "        return fmaps_in, fmaps_out\n",
    "\n",
    "    def forward(self, x):\n",
    "        # left side\n",
    "        convolution_outputs = []\n",
    "        layer_input = x\n",
    "        for i in range(self.depth - 1):\n",
    "            # SOLUTION 6.4A: Implement encoder here\n",
    "            conv_out = self.left_convs[i](layer_input)\n",
    "            convolution_outputs.append(conv_out)\n",
    "            downsampled = self.downsample(conv_out)\n",
    "            layer_input = downsampled\n",
    "\n",
    "        # bottom\n",
    "        # SOLUTION 6.4B: Implement bottom of U-Net here\n",
    "        conv_out = self.left_convs[-1](layer_input)\n",
    "        layer_input = conv_out\n",
    "\n",
    "        # right\n",
    "        for i in range(0, self.depth - 1)[::-1]:\n",
    "            # SOLUTION 6.4C: Implement decoder here\n",
    "            upsampled = self.upsample(layer_input)\n",
    "            concat = self.crop_and_concat(convolution_outputs[i], upsampled)\n",
    "            conv_output = self.right_convs[i](concat)\n",
    "            layer_input = conv_output\n",
    "\n",
    "        # SOLUTION 6.4D: Return the final output\n",
    "        return self.final_conv(layer_input)"
   ]
  },
  {
   "cell_type": "markdown",
   "id": "630df80a",
   "metadata": {
    "tags": []
   },
   "source": [
    "Below we declare a very simple U-Net and then apply it to a random image. Because we have not trained the U-Net the output should look similar to the output of random convolutions. If you get errors here, go back and fix your U-Net implementation!"
   ]
  },
  {
   "cell_type": "code",
   "execution_count": null,
   "id": "01ec9306",
   "metadata": {
    "tags": []
   },
   "outputs": [],
   "source": [
    "unet_tests.TestUNet(UNet).run()"
   ]
  },
  {
   "cell_type": "code",
   "execution_count": null,
   "id": "acb3d114",
   "metadata": {
    "tags": []
   },
   "outputs": [],
   "source": [
    "simple_net = UNet(depth=2, in_channels=1)"
   ]
  },
  {
   "cell_type": "code",
   "execution_count": null,
   "id": "4dbf95a8",
   "metadata": {
    "tags": []
   },
   "outputs": [],
   "source": [
    "apply_and_show_random_image(simple_net, dataset)"
   ]
  },
  {
   "cell_type": "markdown",
   "id": "1965d43c",
   "metadata": {
    "tags": []
   },
   "source": [
    "### Receptive Field\n",
    "\n",
    "The receptive field of a U-Net is the set of input pixels that contribute to a specific output pixel.\n",
    "\n",
    "The receptive field of a single 3x3 convolution is simply the 3x3 grid of inputs. Each subsequent convolution adds the kernel size - 1 to the receptive field, so two 3x3 convolutions have a 5x5 receptive field for each output pixel.\n",
    "\n",
    "Downsampling increases the receptive field as well. After 2x2 max pooling, a 3x3 convolution has a receptive field of 6x6 pre-downsampled pixels. Every operation further increases the receptive field, so the final receptive field of a U-Net output depends on the depth, kernel size, and downsample factor."
   ]
  },
  {
   "cell_type": "markdown",
   "id": "606e05ee",
   "metadata": {
    "tags": []
   },
   "source": [
    "<div class=\"alert alert-block alert-info\">\n",
    "    <h4>Task 7: Receptive Field</h4>\n",
    "    <p>The <code>plot_receptive_field</code> function visualizes the receptive field of a given U-Net - the square shows how many input pixels contribute to the output at the center pixel. Try it out with different U-Nets to get a sense of how varying the depth, kernel size, and downsample factor affect the receptive field of a U-Net.</p>\n",
    "</div>"
   ]
  },
  {
   "cell_type": "code",
   "execution_count": null,
   "id": "241ba3c6",
   "metadata": {
    "tags": [
     "solution"
    ]
   },
   "outputs": [],
   "source": [
    "# SOLUTION 7: declare your U-Net here\n",
    "new_net = UNet(\n",
    "    depth=2,\n",
    "    in_channels=1,\n",
    "    downsample_factor=2,\n",
    "    kernel_size=3,\n",
    ")\n",
    "if isinstance(new_net, UNet):\n",
    "    plot_receptive_field(new_net)"
   ]
  },
  {
   "cell_type": "markdown",
   "id": "0f3d2bfd",
   "metadata": {
    "tags": []
   },
   "source": [
    "<div class=\"alert alert-block alert-success\">\n",
    "    <h2>Checkpoint 2</h2>\n",
    "\n",
    "We are about ready to start training! But before we do, we will stop and discuss your implementation.\n",
    "\n",
    "Questions to consider:\n",
    "<ol>\n",
    "    <li>Which feature of the U-Net has most effect on the receptive field?</li>\n",
    "    <li>For each hyperparameter: Can you think of scenarios in which you would consider changing this parameter? Why? </li>\n",
    "</ol>\n",
    "\n",
    "</div>\n",
    "\n",
    "<hr style=\"height:2px;\">"
   ]
  },
  {
   "cell_type": "markdown",
   "id": "bfccc397",
   "metadata": {
    "tags": []
   },
   "source": [
    "## Train a U-Net!\n",
    "We will get more into the details of evaluating semantic segmentation models in the next exercise. For now, we will provide an example pipeline that will train a U-Net to classify each pixel in an image of cells as foreground or background. You should have seen training loops like this in the pre-course exercises, so there is no implementation task here.\n",
    "\n",
    "We will use Tensorboard to log our training runs, so there is code in the train loop to log aspects of the training to Tensorboard."
   ]
  },
  {
   "cell_type": "code",
   "execution_count": null,
   "id": "92eb61c4",
   "metadata": {
    "tags": []
   },
   "outputs": [],
   "source": [
    "train_dataset = NucleiDataset(\"nuclei_train_data\", transforms.RandomCrop(256))\n",
    "train_loader = DataLoader(train_dataset)"
   ]
  },
  {
   "cell_type": "code",
   "execution_count": null,
   "id": "cfc37a27",
   "metadata": {
    "tags": []
   },
   "outputs": [],
   "source": [
    "loss_function: torch.nn.Module = torch.nn.MSELoss()"
   ]
  },
  {
   "cell_type": "code",
   "execution_count": null,
   "id": "c5243e15",
   "metadata": {
    "tags": []
   },
   "outputs": [],
   "source": [
    "def crop(x, target):\n",
    "    \"\"\"Center-crop x to match spatial dimensions given by target.\"\"\"\n",
    "\n",
    "    x_target_size = x.size()[:-2] + target.size()[-2:]\n",
    "\n",
    "    offset = tuple((a - b) // 2 for a, b in zip(x.size(), x_target_size))\n",
    "\n",
    "    slices = tuple(slice(o, o + s) for o, s in zip(offset, x_target_size))\n",
    "\n",
    "    return x[slices]\n",
    "\n",
    "\n",
    "# apply training for one epoch\n",
    "def train(\n",
    "    model,\n",
    "    loader,\n",
    "    optimizer,\n",
    "    loss_function,\n",
    "    epoch,\n",
    "    log_interval=100,\n",
    "    log_image_interval=20,\n",
    "    tb_logger=None,\n",
    "    device=None,\n",
    "    early_stop=False,\n",
    "):\n",
    "    if device is None:\n",
    "        # You can pass in a device or we will default to using\n",
    "        # the gpu. Feel free to try training on the cpu to see\n",
    "        # what sort of performance difference there is\n",
    "        if torch.cuda.is_available():\n",
    "            device = torch.device(\"cuda\")\n",
    "        else:\n",
    "            device = torch.device(\"cpu\")\n",
    "\n",
    "    # set the model to train mode\n",
    "    model.train()\n",
    "\n",
    "    # move model to device\n",
    "    model = model.to(device)\n",
    "\n",
    "    # iterate over the batches of this epoch\n",
    "    for batch_id, (x, y) in enumerate(loader):\n",
    "        # move input and target to the active device (either cpu or gpu)\n",
    "        x, y = x.to(device), y.to(device)\n",
    "\n",
    "        # zero the gradients for this iteration\n",
    "        optimizer.zero_grad()\n",
    "\n",
    "        # apply model and calculate loss\n",
    "        prediction = model(x)\n",
    "        # if necessary, crop the masks to match the model output shape\n",
    "        if prediction.shape != y.shape:\n",
    "            y = crop(y, prediction)\n",
    "        if y.dtype != prediction.dtype:\n",
    "            y = y.type(prediction.dtype)\n",
    "        loss = loss_function(prediction, y)\n",
    "\n",
    "        # backpropagate the loss and adjust the parameters\n",
    "        loss.backward()\n",
    "        optimizer.step()\n",
    "\n",
    "        # log to console\n",
    "        if batch_id % log_interval == 0:\n",
    "            print(\n",
    "                \"Train Epoch: {} [{}/{} ({:.0f}%)]\\tLoss: {:.6f}\".format(\n",
    "                    epoch,\n",
    "                    batch_id * len(x),\n",
    "                    len(loader.dataset),\n",
    "                    100.0 * batch_id / len(loader),\n",
    "                    loss.item(),\n",
    "                )\n",
    "            )\n",
    "\n",
    "        # log to tensorboard\n",
    "        if tb_logger is not None:\n",
    "            step = epoch * len(loader) + batch_id\n",
    "            tb_logger.add_scalar(\n",
    "                tag=\"train_loss\", scalar_value=loss.item(), global_step=step\n",
    "            )\n",
    "            # check if we log images in this iteration\n",
    "            if step % log_image_interval == 0:\n",
    "                tb_logger.add_images(\n",
    "                    tag=\"input\", img_tensor=x.to(\"cpu\"), global_step=step\n",
    "                )\n",
    "                tb_logger.add_images(\n",
    "                    tag=\"target\", img_tensor=y.to(\"cpu\"), global_step=step\n",
    "                )\n",
    "                tb_logger.add_images(\n",
    "                    tag=\"prediction\",\n",
    "                    img_tensor=prediction.to(\"cpu\").detach(),\n",
    "                    global_step=step,\n",
    "                )\n",
    "\n",
    "        if early_stop and batch_id > 5:\n",
    "            print(\"Stopping test early!\")\n",
    "            break"
   ]
  },
  {
   "cell_type": "markdown",
   "id": "1b753a90",
   "metadata": {
    "tags": []
   },
   "source": [
    "Now we start our Tensorboard server and show it inside the notebook. We haven't logged anything yet so you'll see \"No dashboards are active for the current data set.\" After you start training, you may need to press the refresh button in the top right to see the logs. When looking at the loss, we recommend smoothing (slider in the settings toolbar) because the raw numbers are very noisy\n",
    "\n",
    "If you don't see _anything_, try running the cell again."
   ]
  },
  {
   "cell_type": "code",
   "execution_count": null,
   "id": "716cea86",
   "metadata": {
    "tags": []
   },
   "outputs": [],
   "source": [
    "# start a tensorboard writer\n",
    "%tensorboard --logdir unet_runs"
   ]
  },
  {
   "cell_type": "markdown",
   "id": "3531c32c",
   "metadata": {
    "tags": []
   },
   "source": [
    "<div class=\"alert alert-block alert-info\">\n",
    "    <h3>Task 8: Declare and train a U-Net</h3>\n",
    "    <ol>\n",
    "        <li>Declare a U-Net with your favorite parameters!</li>\n",
    "        <li>Train the U-Net for 5 epochs, and inspect the training loss and the output predictions in Tensorboard.</li>\n",
    "        </ol>\n",
    "</div>"
   ]
  },
  {
   "cell_type": "code",
   "execution_count": null,
   "id": "43147670",
   "metadata": {
    "tags": [
     "solution"
    ]
   },
   "outputs": [],
   "source": [
    "model = UNet(\n",
    "    depth=4, in_channels=1\n",
    ")  # SOLUTION 8.1: Declare your U-Net here and name it below\n",
    "model_name = \"my_fav_unet\"  # This name will be used in the tensorboard logs\n",
    "logger = SummaryWriter(f\"unet_runs/{model_name}\")"
   ]
  },
  {
   "cell_type": "code",
   "execution_count": null,
   "id": "404dfd35",
   "metadata": {
    "lines_to_next_cell": 2,
    "tags": []
   },
   "outputs": [],
   "source": [
    "# use adam optimizer\n",
    "optimizer = torch.optim.Adam(model.parameters())\n",
    "\n",
    "# train for $5$ epochs\n",
    "# TASK 8.2: Run this cell and examine outputs in Tensorboard above!\n",
    "n_epochs = 5\n",
    "for epoch in range(n_epochs):\n",
    "    # train\n",
    "    train(\n",
    "        model,\n",
    "        train_loader,\n",
    "        optimizer=optimizer,\n",
    "        loss_function=loss_function,\n",
    "        epoch=epoch,\n",
    "        tb_logger=logger,\n",
    "    )"
   ]
  },
  {
   "cell_type": "markdown",
   "id": "da134b74",
   "metadata": {
    "tags": []
   },
   "source": [
    "<div class=\"alert alert-block alert-info\">\n",
    "    <h3>Task 9: Train more U-Nets! </h3>\n",
    "    <ol>\n",
    "        <li>Declare a new U-Net with different parameters. If you use a different name in the Tensorboard logger, you will be able to know which logs are from which run.</li>\n",
    "        <li>Train your new U-Net - does it perform better or worse? How can you tell?</li>\n",
    "        <li>Keep tinkering with different architectures until the end of the exercise!</li>\n",
    "        </ol>\n",
    "</div>"
   ]
  },
  {
   "cell_type": "markdown",
   "id": "a1173523",
   "metadata": {
    "tags": []
   },
   "source": [
    "<div class=\"alert alert-block alert-success\">\n",
    "    <h2>Checkpoint 3</h2>\n",
    "\n",
    "This is the end of the guided exercise. We will go over all of the code up until this point shortly. While you wait you are encouraged to try different U-Nets, training epochs, etc.\n",
    "</div>"
   ]
  }
 ],
 "metadata": {
  "jupytext": {
   "cell_metadata_filter": "all",
   "main_language": "python"
  }
 },
 "nbformat": 4,
 "nbformat_minor": 5
}
